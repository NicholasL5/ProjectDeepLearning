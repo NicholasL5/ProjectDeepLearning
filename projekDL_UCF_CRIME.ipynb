{
  "cells": [
    {
      "cell_type": "code",
      "execution_count": null,
      "metadata": {
        "id": "bDI3k35wgb2c"
      },
      "outputs": [],
      "source": [
        "import cv2\n",
        "import numpy as np\n",
        "import matplotlib.pyplot as plt\n",
        "import tensorflow as tf\n",
        "from keras import models\n",
        "from keras import optimizers\n",
        "from keras.models import Sequential\n",
        "from keras.layers import LSTM, TimeDistributed, Dense, ConvLSTM2D, MultiHeadAttention, Flatten, MaxPooling3D\n",
        "from tensorflow.keras.callbacks import EarlyStopping\n",
        "\n",
        "import os\n",
        "import random\n",
        "from pathlib import Path"
      ]
    },
    {
      "cell_type": "code",
      "execution_count": null,
      "metadata": {
        "id": "kt00R4h1g-Ni"
      },
      "outputs": [],
      "source": [
        "DIR = \"D:/Kuliah/Deep_learning/Projek/UCF_CRIME/Dataset_npy\""
      ]
    },
    {
      "cell_type": "code",
      "execution_count": null,
      "metadata": {
        "colab": {
          "base_uri": "https://localhost:8080/"
        },
        "id": "Hm9ufzT4g_rZ",
        "outputId": "0013108e-1855-40f2-a41e-f7fa27b208c5"
      },
      "outputs": [
        {
          "data": {
            "text/plain": [
              "['train', 'val']"
            ]
          },
          "execution_count": 3,
          "metadata": {},
          "output_type": "execute_result"
        }
      ],
      "source": [
        "# cek\n",
        "os.listdir(DIR)"
      ]
    },
    {
      "cell_type": "code",
      "execution_count": null,
      "metadata": {
        "colab": {
          "base_uri": "https://localhost:8080/"
        },
        "id": "qipUNLa1hGll",
        "outputId": "c59335d3-841e-45d3-f055-275d77850a32"
      },
      "outputs": [
        {
          "name": "stdout",
          "output_type": "stream",
          "text": [
            "file train/fight:  780\n",
            "file train/nonfight: 647\n",
            "file val/fight:  170\n",
            "file val/nonfight:  150\n"
          ]
        }
      ],
      "source": [
        "print(\"file train/fight: \",len(os.listdir(DIR+\"/train/Fight\")))\n",
        "print(\"file train/nonfight:\", len(os.listdir(DIR+\"/train/NonFight\")))\n",
        "print(\"file val/fight: \", len(os.listdir(DIR+\"/val/Fight\")))\n",
        "print(\"file val/nonfight: \", len(os.listdir(DIR+\"/val/NonFight\")))"
      ]
    },
    {
      "cell_type": "code",
      "execution_count": null,
      "metadata": {
        "id": "j39Rx3DehJUt"
      },
      "outputs": [],
      "source": [
        "class FrameGenerator:\n",
        "    def __init__(self, path, training=False):\n",
        "        \"\"\" Returns a set of frames with their associated label.\n",
        "          Args:\n",
        "            path: Video file paths.\n",
        "            n_frames: Number of frames.\n",
        "            training: Boolean to determine if training dataset is being created.\n",
        "        \"\"\"\n",
        "        self.path = path\n",
        "\n",
        "        self.training = training\n",
        "        self.class_names = ['NonFight', 'Fight']\n",
        "        self.class_ids_for_name = dict((name, idx) for idx, name in enumerate(self.class_names))\n",
        "\n",
        "    def get_files_and_class_names(self):\n",
        "\n",
        "        video_paths = list(self.path.glob('*/*.npy'))\n",
        "\n",
        "        classes = [p.parent.name for p in video_paths]\n",
        "\n",
        "        return video_paths, classes\n",
        "\n",
        "    def __call__(self):\n",
        "        video_paths, classes = self.get_files_and_class_names()\n",
        "\n",
        "        pairs = list(zip(video_paths, classes))\n",
        "\n",
        "        if self.training:\n",
        "            random.shuffle(pairs)\n",
        "\n",
        "        for path, name in pairs:\n",
        "            video_frames = self.read_npy_file(path)\n",
        "            label = self.class_ids_for_name[name]\n",
        "            yield video_frames, label\n",
        "\n",
        "\n",
        "    def read_npy_file(self, path):\n",
        "        data = np.load(path)\n",
        "        data = np.float32(data)\n",
        "        data = data/255.0\n",
        "        return data"
      ]
    },
    {
      "cell_type": "code",
      "execution_count": null,
      "metadata": {
        "colab": {
          "base_uri": "https://localhost:8080/"
        },
        "id": "E-Ee0fv3hLjA",
        "outputId": "6f049f8c-1986-4c38-d7c8-4e97910098dc"
      },
      "outputs": [
        {
          "data": {
            "text/plain": [
              "WindowsPath('D:/Kuliah/Deep_learning/Projek/UCF_CRIME/Dataset_npy/train')"
            ]
          },
          "execution_count": 6,
          "metadata": {},
          "output_type": "execute_result"
        }
      ],
      "source": [
        "train_file = Path(DIR).joinpath(\"train\").with_suffix('')\n",
        "test_file = Path(DIR).joinpath(\"val\").with_suffix('')\n",
        "train_file"
      ]
    },
    {
      "cell_type": "code",
      "execution_count": null,
      "metadata": {
        "colab": {
          "base_uri": "https://localhost:8080/"
        },
        "id": "qQlsrlhUhN1b",
        "outputId": "f62e5872-7fa2-4a29-953b-085c1c56ecad"
      },
      "outputs": [
        {
          "name": "stdout",
          "output_type": "stream",
          "text": [
            "<__main__.FrameGenerator object at 0x0000020410CB7970>\n",
            "Shape: (21, 224, 224, 3)\n",
            "Label: 0\n"
          ]
        }
      ],
      "source": [
        "fg = FrameGenerator(train_file, training=True)\n",
        "\n",
        "# test\n",
        "frames, label = next(fg())\n",
        "print(fg)\n",
        "print(f\"Shape: {frames.shape}\")\n",
        "print(f\"Label: {label}\")"
      ]
    },
    {
      "cell_type": "code",
      "execution_count": null,
      "metadata": {
        "id": "5dwJEQpchQoa"
      },
      "outputs": [],
      "source": [
        "# buat tf.data.Dataset\n",
        "batch_size = 8\n",
        "\n",
        "output_signature = (tf.TensorSpec(shape=(None, None, None, 3), dtype=tf.float32),\n",
        "                    tf.TensorSpec(shape=(), dtype=tf.int16))\n",
        "\n",
        "train_ds = tf.data.Dataset.from_generator(FrameGenerator(train_file, training=True),\n",
        "                                          output_signature=output_signature)\n",
        "\n",
        "\n",
        "test_ds = tf.data.Dataset.from_generator(FrameGenerator(test_file),\n",
        "                                          output_signature=output_signature)\n"
      ]
    },
    {
      "cell_type": "code",
      "execution_count": null,
      "metadata": {
        "id": "nxtFN1t7hS1t"
      },
      "outputs": [],
      "source": [
        "train_ds = train_ds.batch(batch_size).shuffle(1000)\n",
        "test_ds = test_ds.batch(batch_size).shuffle(1000)"
      ]
    },
    {
      "cell_type": "code",
      "execution_count": null,
      "metadata": {
        "id": "guDOznTqhUMS"
      },
      "outputs": [],
      "source": [
        "AUTOTUNE = tf.data.AUTOTUNE\n",
        "\n",
        "train_ds = train_ds.cache().prefetch(buffer_size = AUTOTUNE)\n",
        "test_ds = test_ds.cache().prefetch(buffer_size = AUTOTUNE)"
      ]
    },
    {
      "cell_type": "code",
      "execution_count": null,
      "metadata": {
        "colab": {
          "base_uri": "https://localhost:8080/"
        },
        "id": "IWxrdvRohVg7",
        "outputId": "e76d9a91-4c6f-490d-cb36-378c1583ee49"
      },
      "outputs": [
        {
          "name": "stdout",
          "output_type": "stream",
          "text": [
            "tf.Tensor([0 1 1 1 1 0 1 0], shape=(8,), dtype=int16)\n",
            "tf.Tensor([0 0 0 1 1 1 1 0], shape=(8,), dtype=int16)\n",
            "tf.Tensor([1 0 1 0 1 1 0 1], shape=(8,), dtype=int16)\n",
            "tf.Tensor([0 1 0 1 1 1 1 1], shape=(8,), dtype=int16)\n",
            "tf.Tensor([1 0 0 0 1 1 1 1], shape=(8,), dtype=int16)\n",
            "tf.Tensor([0 1 1 1 0 1 1 1], shape=(8,), dtype=int16)\n",
            "tf.Tensor([0 1 1 0 1 1 1 0], shape=(8,), dtype=int16)\n",
            "tf.Tensor([0 1 1 0 1 1 1 1], shape=(8,), dtype=int16)\n",
            "tf.Tensor([0 0 0 1 0 0 1 0], shape=(8,), dtype=int16)\n",
            "tf.Tensor([1 1 1 1 0 0 1 0], shape=(8,), dtype=int16)\n",
            "Shape: (8, 21, 224, 224, 3)\n",
            "Label: (8,)\n"
          ]
        }
      ],
      "source": [
        "# test data\n",
        "for frames, labels in train_ds.take(10):\n",
        "    print(labels)\n",
        "\n",
        "print(f\"Shape: {frames.shape}\")\n",
        "print(f\"Label: {labels.shape}\")"
      ]
    },
    {
      "cell_type": "code",
      "execution_count": null,
      "metadata": {
        "id": "peHsM_X-hXT5"
      },
      "outputs": [],
      "source": [
        "# RESNET pretrained\n",
        "pretrained_model = tf.keras.applications.ResNet50(include_top=False,\n",
        "                                                  input_shape=(224, 224, 3),\n",
        "                                                  pooling='avg',\n",
        "                                                  weights='imagenet')"
      ]
    },
    {
      "cell_type": "code",
      "execution_count": null,
      "metadata": {
        "id": "4PLDdQiNhYuO"
      },
      "outputs": [],
      "source": [
        "# buang avg pool layer\n",
        "gap_layer_name = 'avg_pool'\n",
        "gap_layer_index = None\n",
        "\n",
        "for i, layer in enumerate(pretrained_model.layers):\n",
        "    if layer.name == gap_layer_name:\n",
        "        gap_layer_index = i\n",
        "        break\n",
        "\n",
        "\n",
        "if gap_layer_index is not None:\n",
        "    model_without_gap = tf.keras.Model(inputs=pretrained_model.input, outputs=pretrained_model.layers[gap_layer_index - 1].output)\n",
        "\n",
        "else:\n",
        "    print(\"GAP layer not found.\")"
      ]
    },
    {
      "cell_type": "code",
      "execution_count": null,
      "metadata": {
        "colab": {
          "base_uri": "https://localhost:8080/"
        },
        "id": "Yj_6PYXohagj",
        "outputId": "23bcbd9c-6c2e-482d-83ca-cc56396bb11c"
      },
      "outputs": [
        {
          "name": "stdout",
          "output_type": "stream",
          "text": [
            "Model: \"model_1\"\n",
            "__________________________________________________________________________________________________\n",
            " Layer (type)                Output Shape                 Param #   Connected to                  \n",
            "==================================================================================================\n",
            " input_2 (InputLayer)        [(None, 21, 224, 224, 3)]    0         []                            \n",
            "                                                                                                  \n",
            " time_distributed (TimeDist  (None, 21, 7, 7, 2048)       2358771   ['input_2[0][0]']             \n",
            " ributed)                                                 2                                       \n",
            "                                                                                                  \n",
            " conv_lstm2d (ConvLSTM2D)    (None, 21, 7, 7, 256)        2123468   ['time_distributed[0][0]']    \n",
            "                                                          8                                       \n",
            "                                                                                                  \n",
            " multi_head_attention (Mult  (None, 21, 7, 7, 256)        2103552   ['conv_lstm2d[0][0]',         \n",
            " iHeadAttention)                                                     'conv_lstm2d[0][0]']         \n",
            "                                                                                                  \n",
            " conv_lstm2d_1 (ConvLSTM2D)  (None, 21, 7, 7, 256)        4719616   ['multi_head_attention[0][0]']\n",
            "                                                                                                  \n",
            " max_pooling3d (MaxPooling3  (None, 21, 3, 3, 256)        0         ['conv_lstm2d_1[0][0]']       \n",
            " D)                                                                                               \n",
            "                                                                                                  \n",
            " flatten (Flatten)           (None, 48384)                0         ['max_pooling3d[0][0]']       \n",
            "                                                                                                  \n",
            " dense (Dense)               (None, 1000)                 4838500   ['flatten[0][0]']             \n",
            "                                                          0                                       \n",
            "                                                                                                  \n",
            " dense_1 (Dense)             (None, 256)                  256256    ['dense[0][0]']               \n",
            "                                                                                                  \n",
            " dense_2 (Dense)             (None, 10)                   2570      ['dense_1[0][0]']             \n",
            "                                                                                                  \n",
            " dense_3 (Dense)             (None, 2)                    22        ['dense_2[0][0]']             \n",
            "                                                                                                  \n",
            "==================================================================================================\n",
            "Total params: 100289416 (382.57 MB)\n",
            "Trainable params: 100236296 (382.37 MB)\n",
            "Non-trainable params: 53120 (207.50 KB)\n",
            "__________________________________________________________________________________________________\n"
          ]
        }
      ],
      "source": [
        "video_input_shape = (21, 224, 224, 3)\n",
        "\n",
        "video_input = tf.keras.Input(shape=video_input_shape)\n",
        "time_distributed = TimeDistributed(model_without_gap)(video_input)\n",
        "\n",
        "conv_lstm_output = ConvLSTM2D(filters=256, kernel_size=(3, 3), padding=\"same\", return_sequences=True)(time_distributed)\n",
        "\n",
        "mhsa_output = MultiHeadAttention(num_heads=8, key_dim=256, value_dim=256)(conv_lstm_output, conv_lstm_output)\n",
        "# attention_time = TimeDistributed(tf.keras.layers.Lambda(lambda x: x))(mhsa_output)\n",
        "\n",
        "conv_lstm_output2 = ConvLSTM2D(filters=256, kernel_size=(3, 3), padding=\"same\", return_sequences=True)(mhsa_output)\n",
        "\n",
        "maxpool3d = MaxPooling3D(pool_size=(1,2,2))(conv_lstm_output2)\n",
        "\n",
        "flattened = Flatten()(maxpool3d)\n",
        "\n",
        "dense_1 = Dense(1000, activation=\"relu\")(flattened)\n",
        "dense_2 = Dense(256, activation=\"relu\")(dense_1)\n",
        "dense_3 = Dense(10, activation=\"relu\")(dense_2)\n",
        "dense_4 = Dense(2, activation=\"softmax\")(dense_3)\n",
        "\n",
        "# Create the model\n",
        "model = tf.keras.Model(inputs=video_input, outputs=dense_4)\n",
        "\n",
        "model.summary()"
      ]
    },
    {
      "cell_type": "code",
      "execution_count": null,
      "metadata": {
        "id": "EKetiIk1hd5H"
      },
      "outputs": [],
      "source": [
        "epochs = 5\n",
        "lr = 1e-5"
      ]
    },
    {
      "cell_type": "code",
      "execution_count": null,
      "metadata": {
        "id": "NWMSYBhP_0B4"
      },
      "outputs": [],
      "source": [
        "from tensorflow.keras.metrics import AUC"
      ]
    },
    {
      "cell_type": "code",
      "execution_count": null,
      "metadata": {
        "id": "3UYNuCQyhfZy"
      },
      "outputs": [],
      "source": [
        "model.compile(loss=tf.keras.losses.SparseCategoricalCrossentropy(),\n",
        "              optimizer=tf.keras.optimizers.RMSprop(learning_rate=lr),\n",
        "              metrics=['accuracy'])"
      ]
    },
    {
      "cell_type": "code",
      "execution_count": null,
      "metadata": {
        "id": "aUBZWWKIbVPL"
      },
      "outputs": [],
      "source": [
        "early_stopping = EarlyStopping(monitor='val_loss', patience=5, restore_best_weights=True)"
      ]
    },
    {
      "cell_type": "code",
      "execution_count": null,
      "metadata": {
        "colab": {
          "base_uri": "https://localhost:8080/"
        },
        "id": "PQ5H_JMyhlAE",
        "outputId": "5efd7aa4-4a0e-46b5-a63c-c17075c62cb3"
      },
      "outputs": [
        {
          "name": "stdout",
          "output_type": "stream",
          "text": [
            "WARNING:tensorflow:`period` argument is deprecated. Please use `save_freq` to specify the frequency in number of batches seen.\n"
          ]
        }
      ],
      "source": [
        "checkpoint_filepath = 'model_checkpoint_ucf_crime.h5'\n",
        "model_checkpoint_callback = tf.keras.callbacks.ModelCheckpoint(\n",
        "    filepath=checkpoint_filepath,\n",
        "    save_weights_only=True,  # Set to True if you only want to save weights\n",
        "    save_freq='epoch',\n",
        "    period=5  # Save every 5 epochs\n",
        ")\n"
      ]
    },
    {
      "cell_type": "code",
      "execution_count": null,
      "metadata": {
        "id": "OIgasqAH_0B6",
        "outputId": "1139dbad-258c-4f5f-f0cd-163490c4fdf3"
      },
      "outputs": [
        {
          "name": "stdout",
          "output_type": "stream",
          "text": [
            "Num GPUs Available:  0\n"
          ]
        }
      ],
      "source": [
        "print(\"Num GPUs Available: \", len(tf.config.list_physical_devices('GPU')))"
      ]
    },
    {
      "cell_type": "code",
      "execution_count": null,
      "metadata": {
        "id": "aKcGdBcm_0B7"
      },
      "outputs": [],
      "source": [
        "os.environ[\"CUDA_VISIBLE_DEVICES\"] = \"0\""
      ]
    },
    {
      "cell_type": "code",
      "execution_count": null,
      "metadata": {
        "colab": {
          "base_uri": "https://localhost:8080/",
          "height": 530
        },
        "id": "seUiM8ROhqPf",
        "outputId": "bda2b060-6834-4a2b-a37c-75ca81011706"
      },
      "outputs": [
        {
          "name": "stdout",
          "output_type": "stream",
          "text": [
            "Epoch 1/5\n",
            "179/179 [==============================] - 3142s 17s/step - loss: 0.5165 - accuracy: 0.7386 - val_loss: 0.7502 - val_accuracy: 0.5344\n",
            "Epoch 2/5\n",
            "179/179 [==============================] - 3077s 17s/step - loss: 0.2467 - accuracy: 0.9068 - val_loss: 0.7490 - val_accuracy: 0.6625\n",
            "Epoch 3/5\n",
            "179/179 [==============================] - 3065s 17s/step - loss: 0.0629 - accuracy: 0.9797 - val_loss: 0.8744 - val_accuracy: 0.8188\n",
            "Epoch 4/5\n",
            "179/179 [==============================] - 3067s 17s/step - loss: 0.0227 - accuracy: 0.9951 - val_loss: 0.8047 - val_accuracy: 0.8406\n",
            "Epoch 5/5\n",
            "179/179 [==============================] - 3064s 17s/step - loss: 0.0048 - accuracy: 0.9986 - val_loss: 1.0296 - val_accuracy: 0.8375\n"
          ]
        }
      ],
      "source": [
        "results = model.fit(train_ds,\n",
        "                    validation_data=test_ds,\n",
        "                    epochs=epochs,\n",
        "                    validation_freq=1,\n",
        "                    verbose=1, callbacks=[early_stopping,model_checkpoint_callback])"
      ]
    },
    {
      "cell_type": "code",
      "execution_count": null,
      "metadata": {
        "id": "_TlwEZDUhr0J",
        "outputId": "da1642b6-e9ac-43fd-993a-0c223deb6970"
      },
      "outputs": [
        {
          "name": "stdout",
          "output_type": "stream",
          "text": [
            "40/40 [==============================] - 154s 4s/step - loss: 1.0296 - accuracy: 0.8375\n"
          ]
        },
        {
          "data": {
            "text/plain": [
              "{'loss': 1.029628038406372, 'accuracy': 0.8374999761581421}"
            ]
          },
          "execution_count": 23,
          "metadata": {},
          "output_type": "execute_result"
        }
      ],
      "source": [
        "model.evaluate(test_ds, return_dict=True)"
      ]
    },
    {
      "cell_type": "code",
      "execution_count": null,
      "metadata": {
        "id": "Nob-lOTS3lMi",
        "outputId": "4f9e3f85-5056-424a-91b8-c84ca732bd5d"
      },
      "outputs": [
        {
          "name": "stdout",
          "output_type": "stream",
          "text": [
            "INFO:tensorflow:Assets written to: D:/Kuliah/Deep_learning/Projek/my_model_UCFC.tf\\assets\n"
          ]
        },
        {
          "name": "stderr",
          "output_type": "stream",
          "text": [
            "INFO:tensorflow:Assets written to: D:/Kuliah/Deep_learning/Projek/my_model_UCFC.tf\\assets\n"
          ]
        }
      ],
      "source": [
        "model.save('D:/Kuliah/Deep_learning/Projek/my_model_UCFC.tf')"
      ]
    },
    {
      "cell_type": "code",
      "execution_count": null,
      "metadata": {
        "id": "2_vV8Fo6_0B9"
      },
      "outputs": [],
      "source": [
        "\n",
        "def plot_history(history):\n",
        "    # Plot training & validation accuracy, loss, and AUC values\n",
        "    plt.figure(figsize=(21, 5))  # Adjust the figsize to accommodate more plots\n",
        "\n",
        "    # Plot training & validation accuracy values\n",
        "    plt.subplot(1, 3, 1)\n",
        "    plt.plot(history['accuracy'])\n",
        "    plt.plot(history['val_accuracy'])\n",
        "    plt.title('Model accuracy')\n",
        "    plt.ylabel('Accuracy')\n",
        "    plt.xlabel('Epoch')\n",
        "    plt.legend(['Train', 'Validation'], loc='upper left')\n",
        "\n",
        "    # Plot training & validation loss values\n",
        "    plt.subplot(1, 3, 2)\n",
        "    plt.plot(history['loss'])\n",
        "    plt.plot(history['val_loss'])\n",
        "    plt.title('Model loss')\n",
        "    plt.ylabel('Loss')\n",
        "    plt.xlabel('Epoch')\n",
        "    plt.legend(['Train', 'Validation'], loc='upper left')\n",
        "    plt.show()\n"
      ]
    },
    {
      "cell_type": "code",
      "execution_count": null,
      "metadata": {
        "id": "r440fErn_0B-",
        "outputId": "350b7c09-399f-496c-a20d-d81a385992f7"
      },
      "outputs": [
        {
          "data": {
            "image/png": "[encoded data removed]",
            "text/plain": [
              "<Figure size 2100x500 with 2 Axes>"
            ]
          },
          "metadata": {},
          "output_type": "display_data"
        }
      ],
      "source": [
        "plot_history(results.history)"
      ]
    }
  ],
  "metadata": {
    "accelerator": "GPU",
    "colab": {
      "gpuType": "L4",
      "machine_shape": "hm",
      "provenance": []
    },
    "kernelspec": {
      "display_name": "yolov7_new",
      "language": "python",
      "name": "yolov7_new"
    },
    "language_info": {
      "codemirror_mode": {
        "name": "ipython",
        "version": 3
      },
      "file_extension": ".py",
      "mimetype": "text/x-python",
      "name": "python",
      "nbconvert_exporter": "python",
      "pygments_lexer": "ipython3",
      "version": "3.9.19"
    }
  },
  "nbformat": 4,
  "nbformat_minor": 0
}